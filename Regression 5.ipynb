{
 "cells": [
  {
   "cell_type": "markdown",
   "id": "7b13b1d2-8e72-4415-aeb5-b7463c6bd3fb",
   "metadata": {},
   "source": [
    "Q1. What is Elastic Net Regression and how does it differ from other regression techniques?"
   ]
  },
  {
   "cell_type": "markdown",
   "id": "196169e6-142a-4da8-8965-00cdc5508dbd",
   "metadata": {},
   "source": [
    "Elastic net regression is the combination of ridge and lasso regression. That means it can reduce overfitting and at the same time can also do feature selection.\n",
    "Its cost function is given as \n",
    "Cost fn=1/n ∑_(i=1)^n▒(y_i-(y_i ) ̂ )^2 +λ_1 ∑_(i=1)^n▒(Slope)^2 +λ_2 ∑_(i=1)^n▒|Slope| \n",
    "λ_1  & λ_2 are selected by hyper parameter tuning\n"
   ]
  },
  {
   "cell_type": "markdown",
   "id": "8baa1bde-0c06-45b6-82b6-2bcd7f3ef7d4",
   "metadata": {},
   "source": [
    "\n",
    "Q2. How do you choose the optimal values of the regularization parameters for Elastic Net Regression?"
   ]
  },
  {
   "cell_type": "markdown",
   "id": "b7519afc-c20b-40bd-af82-4191be069826",
   "metadata": {},
   "source": []
  },
  {
   "cell_type": "markdown",
   "id": "e9ce482f-b81c-4164-be94-cbee1e12af74",
   "metadata": {},
   "source": [
    "\n",
    "Q3. What are the advantages and disadvantages of Elastic Net Regression?"
   ]
  },
  {
   "cell_type": "markdown",
   "id": "ece07be3-c758-417e-a9b9-075130403ce5",
   "metadata": {},
   "source": [
    "Elastic net regression is the combination of ridge and lasso regression. That means it can reduce overfitting and at the same time can also do feature selection.\n",
    "Its cost function is given as \n",
    "Cost fn=1/n ∑_(i=1)^n▒(y_i-(y_i ) ̂ )^2 +λ_1 ∑_(i=1)^n▒(Slope)^2 +λ_2 ∑_(i=1)^n▒|Slope| \n",
    "λ_1  & λ_2 are selected by hyper parameter tuning\n"
   ]
  },
  {
   "cell_type": "markdown",
   "id": "0fb53dc0-91fd-4899-9bee-71f676f01a71",
   "metadata": {},
   "source": [
    "\n",
    "Q4. What are some common use cases for Elastic Net Regression?\n"
   ]
  },
  {
   "cell_type": "markdown",
   "id": "d477c7ab-2511-44d2-b038-14d504c3a2c7",
   "metadata": {},
   "source": [
    "Elastic net regression is the combination of ridge and lasso regression. That means it can reduce overfitting and at the same time can also do feature selection.\n",
    "Its cost function is given as \n",
    "Cost fn=1/n ∑_(i=1)^n▒(y_i-(y_i ) ̂ )^2 +λ_1 ∑_(i=1)^n▒(Slope)^2 +λ_2 ∑_(i=1)^n▒|Slope| \n",
    "λ_1  & λ_2 are selected by hyper parameter tuning\n"
   ]
  },
  {
   "cell_type": "markdown",
   "id": "752e78b7-fc20-4f05-bf93-ed1bcb6495f0",
   "metadata": {},
   "source": [
    "Q5. How do you interpret the coefficients in Elastic Net Regression?"
   ]
  },
  {
   "cell_type": "markdown",
   "id": "bfc1b2fc-3b6a-4029-aec3-9277dc29718a",
   "metadata": {},
   "source": [
    "Elastic net regression is the combination of ridge and lasso regression. That means it can reduce overfitting and at the same time can also do feature selection.\n",
    "Its cost function is given as \n",
    "Cost fn=1/n ∑_(i=1)^n▒(y_i-(y_i ) ̂ )^2 +λ_1 ∑_(i=1)^n▒(Slope)^2 +λ_2 ∑_(i=1)^n▒|Slope| \n",
    "λ_1  & λ_2 are selected by hyper parameter tuning\n"
   ]
  },
  {
   "cell_type": "markdown",
   "id": "e7b27e1e-49a3-47b3-9769-8f938c8ebd9a",
   "metadata": {},
   "source": [
    "\n",
    "Q6. How do you handle missing values when using Elastic Net Regression?"
   ]
  },
  {
   "cell_type": "markdown",
   "id": "9f5ad30f-bf6f-4bb9-96eb-2b01963de647",
   "metadata": {},
   "source": [
    "Elastic net regression is the combination of ridge and lasso regression. That means it can reduce overfitting and at the same time can also do feature selection.\n",
    "Its cost function is given as \n",
    "Cost fn=1/n ∑_(i=1)^n▒(y_i-(y_i ) ̂ )^2 +λ_1 ∑_(i=1)^n▒(Slope)^2 +λ_2 ∑_(i=1)^n▒|Slope| \n",
    "λ_1  & λ_2 are selected by hyper parameter tuning\n"
   ]
  },
  {
   "cell_type": "markdown",
   "id": "7de982b3-7137-4617-b531-301377a23ffe",
   "metadata": {},
   "source": [
    "\n",
    "Q7. How do you use Elastic Net Regression for feature selection?"
   ]
  },
  {
   "cell_type": "markdown",
   "id": "f1b6297c-8d2c-4ea0-85fe-f1c2c40ddd54",
   "metadata": {},
   "source": [
    "Elastic net regression is the combination of ridge and lasso regression. That means it can reduce overfitting and at the same time can also do feature selection.\n",
    "Its cost function is given as \n",
    "Cost fn=1/n ∑_(i=1)^n▒(y_i-(y_i ) ̂ )^2 +λ_1 ∑_(i=1)^n▒(Slope)^2 +λ_2 ∑_(i=1)^n▒|Slope| \n",
    "λ_1  & λ_2 are selected by hyper parameter tuning\n"
   ]
  },
  {
   "cell_type": "markdown",
   "id": "aaeacd9a-a9b3-4708-9cba-20c727aec0fd",
   "metadata": {},
   "source": [
    "\n",
    "Q8. How do you pickle and unpickle a trained Elastic Net Regression model in Python?"
   ]
  },
  {
   "cell_type": "markdown",
   "id": "5043ac38-c6d6-4488-99c2-17cd03018788",
   "metadata": {},
   "source": [
    "Python pickle module is used for serialising and de serialising a python object structure. Any object in python can be pickled so that it can be saved on the disk. What pickle does is that it \"serialises\" the object first before writing it to file. Pending is a way to convert a python object (list, dictionary, etc.) into a character stream. The idea is that this character stream contains all the information necessary to reconstruct the object in another python script."
   ]
  },
  {
   "cell_type": "markdown",
   "id": "467e41d8-8359-4e81-a911-0e1707ef7d7d",
   "metadata": {},
   "source": [
    "\n",
    "Q9. What is the purpose of pickling a model in machine learning?"
   ]
  },
  {
   "cell_type": "markdown",
   "id": "076d30f6-2e19-45a4-b8b7-0162d7bc7484",
   "metadata": {},
   "source": [
    "Python pickle module is used for serialising and de serialising a python object structure. Any object in python can be pickled so that it can be saved on the disk. What pickle does is that it \"serialises\" the object first before writing it to file. Pending is a way to convert a python object (list, dictionary, etc.) into a character stream. The idea is that this character stream contains all the information necessary to reconstruct the object in another python script."
   ]
  },
  {
   "cell_type": "code",
   "execution_count": null,
   "id": "a560b722-36a7-4e7e-86fd-1227135cf86b",
   "metadata": {},
   "outputs": [],
   "source": []
  }
 ],
 "metadata": {
  "kernelspec": {
   "display_name": "Python 3 (ipykernel)",
   "language": "python",
   "name": "python3"
  },
  "language_info": {
   "codemirror_mode": {
    "name": "ipython",
    "version": 3
   },
   "file_extension": ".py",
   "mimetype": "text/x-python",
   "name": "python",
   "nbconvert_exporter": "python",
   "pygments_lexer": "ipython3",
   "version": "3.10.8"
  }
 },
 "nbformat": 4,
 "nbformat_minor": 5
}
