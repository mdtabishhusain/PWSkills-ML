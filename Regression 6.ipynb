{
 "cells": [
  {
   "cell_type": "markdown",
   "id": "2f2d952d-37fe-403d-8fd7-82b5045256e0",
   "metadata": {},
   "source": [
    "Q1. What are the key steps involved in building an end-to-end web application, from development to\n",
    "deployment on the cloud?"
   ]
  },
  {
   "cell_type": "markdown",
   "id": "ead72b0a-cb3b-4efe-96c8-0cd9281cf922",
   "metadata": {},
   "source": [
    "1. Feature engineering\n",
    "2. Model Building\n",
    "3. Model Training\n",
    "4. Model Pickling\n",
    "5. API Creation\n",
    "6. Cloud Upload"
   ]
  },
  {
   "cell_type": "markdown",
   "id": "2a257ee3-8621-49ce-a103-ff8fe89377f1",
   "metadata": {},
   "source": [
    "\n",
    "Q2. Explain the difference between traditional web hosting and cloud hosting."
   ]
  },
  {
   "cell_type": "markdown",
   "id": "704d0d03-b7c0-4ca8-b378-4a4e4bb7c535",
   "metadata": {},
   "source": [
    "To overcome this we use logistic regression. In order to squash the best fit line we use sigmoid function.\n",
    "In the graph shown here, on the x-axis is the number of play hours and on the y-axis is the result i.e. pass = 1 or fail = 0. Yellow points marked at point 1 are passes and red points marked at 0 are fails. A best fit line is drawn as shown. The equation h_θ (x)=θ_0+θ_1 x_1 used in linear regression will be used here too for finding the best fit line.\n"
   ]
  },
  {
   "cell_type": "markdown",
   "id": "dae4527b-93c0-4198-8b3f-6c3f01ea3445",
   "metadata": {},
   "source": [
    "\n",
    "Q3. How do you choose the right cloud provider for your application deployment, and what factors\n",
    "should you consider?"
   ]
  },
  {
   "cell_type": "markdown",
   "id": "016f0efb-7163-49ef-b866-870f1e3b3fbb",
   "metadata": {},
   "source": [
    "To overcome this we use logistic regression. In order to squash the best fit line we use sigmoid function.\n",
    "In the graph shown here, on the x-axis is the number of play hours and on the y-axis is the result i.e. pass = 1 or fail = 0. Yellow points marked at point 1 are passes and red points marked at 0 are fails. A best fit line is drawn as shown. The equation h_θ (x)=θ_0+θ_1 x_1 used in linear regression will be used here too for finding the best fit line.\n"
   ]
  },
  {
   "cell_type": "markdown",
   "id": "212b234f-6f17-45fc-b437-fc8dc9f848b9",
   "metadata": {},
   "source": [
    "\n",
    "Q4. How do you design and build a responsive user interface for your web application, and what are\n",
    "some best practices to follow?"
   ]
  },
  {
   "cell_type": "markdown",
   "id": "42910f1c-ea99-49d4-a96a-619a426d9493",
   "metadata": {},
   "source": [
    "To overcome this we use logistic regression. In order to squash the best fit line we use sigmoid function.\n",
    "In the graph shown here, on the x-axis is the number of play hours and on the y-axis is the result i.e. pass = 1 or fail = 0. Yellow points marked at point 1 are passes and red points marked at 0 are fails. A best fit line is drawn as shown. The equation h_θ (x)=θ_0+θ_1 x_1 used in linear regression will be used here too for finding the best fit line.\n"
   ]
  },
  {
   "cell_type": "markdown",
   "id": "b394625d-28dd-43c1-b3ee-6758fb7e064e",
   "metadata": {},
   "source": [
    "\n",
    "Q5. How do you integrate the machine learning model with the user interface for the Algerian Forest Fires\n",
    "project(which we discussed in class), and what APIs or libraries can you use for this purpose?"
   ]
  },
  {
   "cell_type": "markdown",
   "id": "745b6d84-fdee-4744-be61-e6b6daeceb84",
   "metadata": {},
   "source": [
    "To overcome this we use logistic regression. In order to squash the best fit line we use sigmoid function.\n",
    "In the graph shown here, on the x-axis is the number of play hours and on the y-axis is the result i.e. pass = 1 or fail = 0. Yellow points marked at point 1 are passes and red points marked at 0 are fails. A best fit line is drawn as shown. The equation h_θ (x)=θ_0+θ_1 x_1 used in linear regression will be used here too for finding the best fit line.\n"
   ]
  },
  {
   "cell_type": "code",
   "execution_count": null,
   "id": "9b51dbe6-526c-414e-8685-29a1caf90119",
   "metadata": {},
   "outputs": [],
   "source": []
  }
 ],
 "metadata": {
  "kernelspec": {
   "display_name": "Python 3 (ipykernel)",
   "language": "python",
   "name": "python3"
  },
  "language_info": {
   "codemirror_mode": {
    "name": "ipython",
    "version": 3
   },
   "file_extension": ".py",
   "mimetype": "text/x-python",
   "name": "python",
   "nbconvert_exporter": "python",
   "pygments_lexer": "ipython3",
   "version": "3.10.8"
  }
 },
 "nbformat": 4,
 "nbformat_minor": 5
}
