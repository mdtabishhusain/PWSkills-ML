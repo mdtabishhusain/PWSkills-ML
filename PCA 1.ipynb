{
 "cells": [
  {
   "cell_type": "markdown",
   "id": "4df31966-10b2-4105-b212-e391151e0b48",
   "metadata": {},
   "source": [
    "Q1. What is the curse of dimensionality reduction and why is it important in machine learning?\n"
   ]
  },
  {
   "cell_type": "markdown",
   "id": "3d76cdd2-65eb-47cd-9f3f-a920afaae277",
   "metadata": {},
   "source": [
    "In curse of dimensionality we keep increasing the number of features for model building and initially we have good results but eventually the model becomes overfit due to unnecessary features in it."
   ]
  },
  {
   "cell_type": "markdown",
   "id": "ab67d54d-8ecb-443b-829d-2c68ce267c65",
   "metadata": {},
   "source": [
    "Q2. How does the curse of dimensionality impact the performance of machine learning algorithms?\n"
   ]
  },
  {
   "cell_type": "markdown",
   "id": "733058b8-204e-4309-aa8f-3025f695af73",
   "metadata": {},
   "source": [
    "The number of features in a dataset is considered as dimensions for example if a dataset has 2 features then it is 2 dimensional or if it has 3 features then it is 3 dimensional and so on. A dataset can contain many features but not all of them are necessary for the output prediction or we can say only few important features affect the accuracy of the model prediction. For instance in a dataset of house price prediction there are 500 datasets. If we select 3 or 6 or 15 most important features, the accuracy of the model will keep increasing as we increase the number of features for model prediction. But if we increase number of features for model prediction to 50, there is high chance of model becoming overfit as there might be some unnecessary features in it that are not that much important for model prediction and eventually they will decrease the accuracy of the model."
   ]
  },
  {
   "cell_type": "markdown",
   "id": "df2429db-0b12-48ee-9702-16f040396a5f",
   "metadata": {},
   "source": [
    "Q3. What are some of the consequences of the curse of dimensionality in machine learning, and how do\n",
    "they impact model performance?\n"
   ]
  },
  {
   "cell_type": "markdown",
   "id": "20292b40-04ce-4e6c-b18a-cda15f06094c",
   "metadata": {},
   "source": [
    "The number of features in a dataset is considered as dimensions for example if a dataset has 2 features then it is 2 dimensional or if it has 3 features then it is 3 dimensional and so on. A dataset can contain many features but not all of them are necessary for the output prediction or we can say only few important features affect the accuracy of the model prediction. For instance in a dataset of house price prediction there are 500 datasets. If we select 3 or 6 or 15 most important features, the accuracy of the model will keep increasing as we increase the number of features for model prediction. But if we increase number of features for model prediction to 50, there is high chance of model becoming overfit as there might be some unnecessary features in it that are not that much important for model prediction and eventually they will decrease the accuracy of the model."
   ]
  },
  {
   "cell_type": "markdown",
   "id": "bc7f9c58-b83a-46ee-8f96-8e19ec8ae343",
   "metadata": {},
   "source": [
    "Q4. Can you explain the concept of feature selection and how it can help with dimensionality reduction?\n"
   ]
  },
  {
   "cell_type": "markdown",
   "id": "f374ba87-2803-4f5a-8732-c2926cd6da9b",
   "metadata": {},
   "source": [
    "In this method we select the most important features for solving the problem statement."
   ]
  },
  {
   "cell_type": "markdown",
   "id": "e06ebd3a-1954-4aa3-b365-926aba63a17f",
   "metadata": {},
   "source": [
    "Q5. What are some limitations and drawbacks of using dimensionality reduction techniques in machine\n",
    "learning?\n"
   ]
  },
  {
   "cell_type": "markdown",
   "id": "6df5dda1-1c7e-4c12-8fdc-303b709f8727",
   "metadata": {},
   "source": [
    "In this method we not only select the most important features but also extract important information from other features as well and then form new features using them. Basically here we are doing feature extraction. For example suppose we have 500 features in a dataset, we can reduce these 500 features to 20 features by extracting important information from all the features. PCA is a method of Dimensionality Reduction which help in the feature extraction."
   ]
  },
  {
   "cell_type": "markdown",
   "id": "475768c5-caa2-40b5-a763-347eb8ebdeb8",
   "metadata": {},
   "source": [
    "Q6. How does the curse of dimensionality relate to overfitting and underfitting in machine learning?\n"
   ]
  },
  {
   "cell_type": "markdown",
   "id": "3e5e22ba-7762-4b9d-9578-b6fad0323644",
   "metadata": {},
   "source": [
    "The number of features in a dataset is considered as dimensions for example if a dataset has 2 features then it is 2 dimensional or if it has 3 features then it is 3 dimensional and so on. A dataset can contain many features but not all of them are necessary for the output prediction or we can say only few important features affect the accuracy of the model prediction. For instance in a dataset of house price prediction there are 500 datasets. If we select 3 or 6 or 15 most important features, the accuracy of the model will keep increasing as we increase the number of features for model prediction. But if we increase number of features for model prediction to 50, there is high chance of model becoming overfit as there might be some unnecessary features in it that are not that much important for model prediction and eventually they will decrease the accuracy of the model."
   ]
  },
  {
   "cell_type": "markdown",
   "id": "b8714d68-c2e1-4b3d-b184-ced6e6633d58",
   "metadata": {},
   "source": [
    "Q7. How can one determine the optimal number of dimensions to reduce data to when using\n",
    "dimensionality reduction techniques?"
   ]
  },
  {
   "cell_type": "markdown",
   "id": "dc65439d-cab3-4198-8656-034f57db5bdb",
   "metadata": {},
   "source": [
    ": In this method we not only select the most important features but also extract important information from other features as well and then form new features using them. Basically here we are doing feature extraction. For example suppose we have 500 features in a dataset, we can reduce these 500 features to 20 features by extracting important information from all the features. PCA is a method of Dimensionality Reduction which help in the feature extraction.\n",
    "\n"
   ]
  },
  {
   "cell_type": "code",
   "execution_count": null,
   "id": "769c6ff3-bf27-4898-9d8b-8e9c7ac10c16",
   "metadata": {},
   "outputs": [],
   "source": []
  }
 ],
 "metadata": {
  "kernelspec": {
   "display_name": "Python 3 (ipykernel)",
   "language": "python",
   "name": "python3"
  },
  "language_info": {
   "codemirror_mode": {
    "name": "ipython",
    "version": 3
   },
   "file_extension": ".py",
   "mimetype": "text/x-python",
   "name": "python",
   "nbconvert_exporter": "python",
   "pygments_lexer": "ipython3",
   "version": "3.10.8"
  }
 },
 "nbformat": 4,
 "nbformat_minor": 5
}
