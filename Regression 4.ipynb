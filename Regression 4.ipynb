{
 "cells": [
  {
   "cell_type": "markdown",
   "id": "c7d55295-5769-44a4-86a6-a7a268aab089",
   "metadata": {},
   "source": [
    "Q1. What is Lasso Regression, and how does it differ from other regression techniques?\n"
   ]
  },
  {
   "cell_type": "markdown",
   "id": "19dd1869-11f3-4857-8225-d9653002340e",
   "metadata": {},
   "source": [
    "Lasso regression is a L1 regularization machine learning algorithm used in feature selection. Feature selection is the process of selecting the most important features of a dataset. Lasso regression uses absolute value of slope in its cost function to achieve the target of selecting most important features."
   ]
  },
  {
   "cell_type": "markdown",
   "id": "9d372126-af4b-4192-958b-f7bd4abf9cdb",
   "metadata": {},
   "source": [
    "Q2. What is the main advantage of using Lasso Regression in feature selection?\n"
   ]
  },
  {
   "cell_type": "markdown",
   "id": "8b1355d0-0cdb-43ec-840b-757552310e52",
   "metadata": {},
   "source": [
    "Lasso regression uses absolute value of slope in its cost function to achieve the target of selecting most important features."
   ]
  },
  {
   "cell_type": "markdown",
   "id": "168bd4a7-b4ad-4faa-bb02-1b74093896dd",
   "metadata": {},
   "source": [
    "Q3. How do you interpret the coefficients of a Lasso Regression model?"
   ]
  },
  {
   "cell_type": "markdown",
   "id": "1a98d542-2b7c-44b9-ada3-1594a7491ee5",
   "metadata": {},
   "source": [
    "Here if x_31 then y0.2x_3. The value 0.2 is so small that while feature selection lasso regression reduce this value to 0 and prediction is made using remaining values only. "
   ]
  },
  {
   "cell_type": "markdown",
   "id": "82f64bfa-8790-48cf-a73e-1529e733da7e",
   "metadata": {},
   "source": [
    "\n",
    "Q4. What are the tuning parameters that can be adjusted in Lasso Regression, and how do they affect the\n",
    "model's performance?"
   ]
  },
  {
   "cell_type": "markdown",
   "id": "c4f6e9a2-a4c2-4f97-9cbb-1cb4f86b2818",
   "metadata": {},
   "source": [
    "Its cost function is given by \n",
    "Cost fn=1/n ∑_(i=1)^n▒(y_i-(y_i ) ̂ )^2 +λ∑_(i=1)^n▒|Slope| \n",
    "Assume we have a multiple linear regression in which h_θ (x)=θ_0+θ_1 x_1+θ_2 x_2+θ_3 x_3\n",
    "=0.52+0.65x_1+1.5x_2+0.2x_3\n",
    "Here if x_31 then y0.2x_3. The value 0.2 is so small that while feature selection lasso regression reduce this value to 0 and prediction is made using remaining values only. \n"
   ]
  },
  {
   "cell_type": "markdown",
   "id": "049de62b-bf75-494a-97d1-864d3b4d66e6",
   "metadata": {},
   "source": [
    "\n",
    "Q5. Can Lasso Regression be used for non-linear regression problems? If yes, how?"
   ]
  },
  {
   "cell_type": "markdown",
   "id": "bcac9da5-9621-4477-8229-0c6a25ea30b8",
   "metadata": {},
   "source": [
    "No Its cost function is given by \n",
    "Cost fn=1/n ∑_(i=1)^n▒(y_i-(y_i ) ̂ )^2 +λ∑_(i=1)^n▒|Slope| \n",
    "Assume we have a multiple linear regression in which h_θ (x)=θ_0+θ_1 x_1+θ_2 x_2+θ_3 x_3\n",
    "=0.52+0.65x_1+1.5x_2+0.2x_3\n",
    "Here if x_31 then y0.2x_3. The value 0.2 is so small that while feature selection lasso regression reduce this value to 0 and prediction is made using remaining values only. \n"
   ]
  },
  {
   "cell_type": "markdown",
   "id": "b76f68c4-c20d-41c5-aa7f-f138e568dda3",
   "metadata": {},
   "source": [
    "\n",
    "Q6. What is the difference between Ridge Regression and Lasso Regression?"
   ]
  },
  {
   "cell_type": "markdown",
   "id": "27f75955-ca6d-4908-a2ec-0a2851a1854c",
   "metadata": {},
   "source": [
    "Lasso regression is a L1 regularization machine learning algorithm used in feature selection. Feature selection is the process of selecting the most important features of a dataset"
   ]
  },
  {
   "cell_type": "markdown",
   "id": "c071ec38-b6e4-4630-9a93-bc4d41aaa040",
   "metadata": {},
   "source": [
    "\n",
    "Q7. Can Lasso Regression handle multicollinearity in the input features? If yes, how?"
   ]
  },
  {
   "cell_type": "markdown",
   "id": "2e177f4a-2b80-4396-8500-bb2858e0f98f",
   "metadata": {},
   "source": [
    "No Lasso regression is a L1 regularization machine learning algorithm used in feature selection. Feature selection is the process of selecting the most important features of a dataset"
   ]
  },
  {
   "cell_type": "markdown",
   "id": "f1f3d46b-7af6-4747-a0b3-13908a5425bc",
   "metadata": {},
   "source": [
    "\n",
    "Q8. How do you choose the optimal value of the regularization parameter (lambda) in Lasso Regression?"
   ]
  },
  {
   "cell_type": "markdown",
   "id": "2e5ecffc-3ae0-468d-9fd4-dd00a7cbe281",
   "metadata": {},
   "source": [
    "Its cost function is given by \n",
    "Cost fn=1/n ∑_(i=1)^n▒(y_i-(y_i ) ̂ )^2 +λ∑_(i=1)^n▒|Slope| \n",
    "Assume we have a multiple linear regression in which h_θ (x)=θ_0+θ_1 x_1+θ_2 x_2+θ_3 x_3\n",
    "=0.52+0.65x_1+1.5x_2+0.2x_3\n",
    "Here if x_31 then y0.2x_3. The value 0.2 is so small that while feature selection lasso regression reduce this value to 0 and prediction is made using remaining values only. \n"
   ]
  },
  {
   "cell_type": "code",
   "execution_count": null,
   "id": "b3dd8fa4-194b-4ee9-8b08-6cc9408916c2",
   "metadata": {},
   "outputs": [],
   "source": []
  }
 ],
 "metadata": {
  "kernelspec": {
   "display_name": "Python 3 (ipykernel)",
   "language": "python",
   "name": "python3"
  },
  "language_info": {
   "codemirror_mode": {
    "name": "ipython",
    "version": 3
   },
   "file_extension": ".py",
   "mimetype": "text/x-python",
   "name": "python",
   "nbconvert_exporter": "python",
   "pygments_lexer": "ipython3",
   "version": "3.10.8"
  }
 },
 "nbformat": 4,
 "nbformat_minor": 5
}
