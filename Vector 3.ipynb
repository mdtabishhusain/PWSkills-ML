{
 "cells": [
  {
   "cell_type": "markdown",
   "id": "d17a1e64-e1b7-4ac1-af7d-7bc543ea3b90",
   "metadata": {},
   "source": [
    "Q1. In order to predict house price based on several characteristics, such as location, square footage,\n",
    "number of bedrooms, etc., you are developing an SVM regression model. Which regression metric in this\n",
    "situation would be the best to employ?"
   ]
  },
  {
   "cell_type": "markdown",
   "id": "2a56ace8-be95-4bc0-83f3-f1b4a1090072",
   "metadata": {},
   "source": [
    "The best metric in this situation to employ is 'linear'"
   ]
  },
  {
   "cell_type": "markdown",
   "id": "8ce7d112-fda4-47c3-a03e-cb7f09a558f9",
   "metadata": {},
   "source": [
    "Q2. You have built an SVM regression model and are trying to decide between using MSE or R-squared as\n",
    "your evaluation metric. Which metric would be more appropriate if your goal is to predict the actual price\n",
    "of a house as accurately as possible?\n"
   ]
  },
  {
   "cell_type": "markdown",
   "id": "b1c730f0-6c6d-4996-82a5-a7c2bd688f9a",
   "metadata": {},
   "source": [
    "MSE would be accurate"
   ]
  },
  {
   "cell_type": "markdown",
   "id": "c11100e8-1ec1-4f78-830b-cf7f3c9602a2",
   "metadata": {},
   "source": [
    "\n",
    "Q3. You have a dataset with a significant number of outliers and are trying to select an appropriate\n",
    "regression metric to use with your SVM model. Which metric would be the most appropriate in this\n",
    "scenario?\n"
   ]
  },
  {
   "cell_type": "markdown",
   "id": "e7dc2a0c-a318-4d23-8409-98179badc803",
   "metadata": {},
   "source": [
    "R - Squared would be appropriate"
   ]
  },
  {
   "cell_type": "markdown",
   "id": "7944671f-952c-4bde-9abc-3e50b2012490",
   "metadata": {},
   "source": [
    "Q4. You have built an SVM regression model using a polynomial kernel and are trying to select the best\n",
    "metric to evaluate its performance. You have calculated both MSE and RMSE and found that both values\n",
    "are very close. Which metric should you choose to use in this case?"
   ]
  },
  {
   "cell_type": "markdown",
   "id": "c51d523d-2cf7-40fe-b1fd-f1ec839416ca",
   "metadata": {},
   "source": [
    "RMSE would be appropriate"
   ]
  },
  {
   "cell_type": "markdown",
   "id": "069b228c-c58a-460d-aeb1-fd308ef84112",
   "metadata": {},
   "source": [
    "\n",
    "Q5. You are comparing the performance of different SVM regression models using different kernels (linear,\n",
    "polynomial, and RBF) and are trying to select the best evaluation metric. Which metric would be most\n",
    "appropriate if your goal is to measure how well the model explains the variance in the target variable?"
   ]
  },
  {
   "cell_type": "markdown",
   "id": "332661a1-d3fa-4bcc-a87b-ac787ecae683",
   "metadata": {},
   "source": [
    "Linear would be accurate"
   ]
  },
  {
   "cell_type": "code",
   "execution_count": null,
   "id": "e8c3f463-b053-4eb2-b8ed-f788b3db5e0f",
   "metadata": {},
   "outputs": [],
   "source": []
  }
 ],
 "metadata": {
  "kernelspec": {
   "display_name": "Python 3 (ipykernel)",
   "language": "python",
   "name": "python3"
  },
  "language_info": {
   "codemirror_mode": {
    "name": "ipython",
    "version": 3
   },
   "file_extension": ".py",
   "mimetype": "text/x-python",
   "name": "python",
   "nbconvert_exporter": "python",
   "pygments_lexer": "ipython3",
   "version": "3.10.8"
  }
 },
 "nbformat": 4,
 "nbformat_minor": 5
}
