{
 "cells": [
  {
   "cell_type": "markdown",
   "id": "ba8b563b-1b7e-4e84-ae3c-ac65f93c5f14",
   "metadata": {},
   "source": [
    "Q1. What is Ridge Regression, and how does it differ from ordinary least squares regression?\n"
   ]
  },
  {
   "cell_type": "markdown",
   "id": "55a702ec-72d8-483a-950b-d9620ffa2fde",
   "metadata": {},
   "source": [
    "Ridge regression is a L2 regularization machine learning algorithm used for reducing overfitting. We know overfitting occurs when training dataset has high accuracy but the test dataset has low accuracy. Ridge regression states that to overcome this situation, instead to reducing error to 0, keep some errors and draw the best fit line in a bit unconventional method than linear regression (as shown in graph)."
   ]
  },
  {
   "cell_type": "markdown",
   "id": "fd4b185d-6a66-49a1-b5be-8999795a4d04",
   "metadata": {},
   "source": [
    "Q2. What are the assumptions of Ridge Regression?"
   ]
  },
  {
   "cell_type": "markdown",
   "id": "473c322d-fc01-441b-97d4-efe01743d753",
   "metadata": {},
   "source": [
    "Cost function of ridge regression is \n",
    "Cost fn=1/n ∑_(i=1)^n▒(y_i-(y_i ) ̂ )^2 +λ∑_(i=1)^n▒(Slope)^2 \n",
    "Where,\n",
    "\tλ is the hyper parameter\n",
    "The slope is θ_1 and it is used to penalise the cost function. Whenever there is a shift in lambda, there is a shift in the slope which eventually leads to get multiple global minima. Also due to lambda, slope doesn’t fall below zero. \n"
   ]
  },
  {
   "cell_type": "markdown",
   "id": "50b9ea73-233b-4b8c-8804-bb1f4d701e86",
   "metadata": {},
   "source": [
    "Q3. How do you select the value of the tuning parameter (lambda) in Ridge Regression?\n"
   ]
  },
  {
   "cell_type": "markdown",
   "id": "8bceca9d-1325-4a5b-82d9-475bced4825c",
   "metadata": {},
   "source": [
    "The slope is θ_1 and it is used to penalise the cost function. Whenever there is a shift in lambda, there is a shift in the slope which eventually leads to get multiple global minima. Also due to lambda, slope doesn’t fall below zero. "
   ]
  },
  {
   "cell_type": "markdown",
   "id": "c95a40b1-8325-4ed9-8a3c-4094dba415f3",
   "metadata": {},
   "source": [
    "Q4. Can Ridge Regression be used for feature selection? If yes, how?\n"
   ]
  },
  {
   "cell_type": "markdown",
   "id": "36d473c8-1faf-4b7f-9b2e-74a77b090ad8",
   "metadata": {},
   "source": [
    "No"
   ]
  },
  {
   "cell_type": "markdown",
   "id": "b7c5687a-bcf3-4808-a3c1-9d3e1ffdb198",
   "metadata": {},
   "source": [
    "Q5. How does the Ridge Regression model perform in the presence of multicollinearity?"
   ]
  },
  {
   "cell_type": "markdown",
   "id": "9ea281cd-18fb-4b53-aad4-bbf3c67793f6",
   "metadata": {},
   "source": [
    "Ridge regression is a L2 regularization machine learning algorithm used for reducing overfitting. We know overfitting occurs when training dataset has high accuracy but the test dataset has low accuracy. Ridge regression states that to overcome this situation, instead to reducing error to 0, keep some errors and draw the best fit line in a bit unconventional method than linear regression "
   ]
  },
  {
   "cell_type": "markdown",
   "id": "a3d62a0a-2dfa-42cb-aec0-8873e8b87976",
   "metadata": {},
   "source": [
    "\n",
    "Q6. Can Ridge Regression handle both categorical and continuous independent variables?"
   ]
  },
  {
   "cell_type": "markdown",
   "id": "7c53c40d-3874-4f09-bc27-13e00f113521",
   "metadata": {},
   "source": [
    "No"
   ]
  },
  {
   "cell_type": "markdown",
   "id": "faeabdd2-0a7a-4ccc-8e15-03766e8bc4e2",
   "metadata": {},
   "source": [
    "\n",
    "Q7. How do you interpret the coefficients of Ridge Regression?\n"
   ]
  },
  {
   "cell_type": "markdown",
   "id": "9a9db172-07b7-42c9-9ece-ce27afa9314b",
   "metadata": {},
   "source": [
    "The slope is θ_1 and it is used to penalise the cost function. Whenever there is a shift in lambda, there is a shift in the slope which eventually leads to get multiple global minima. Also due to lambda, slope doesn’t fall below zero. "
   ]
  },
  {
   "cell_type": "markdown",
   "id": "4ac2ccaf-a7b6-49a2-bcd1-183753ef038b",
   "metadata": {},
   "source": [
    "Q8. Can Ridge Regression be used for time-series data analysis? If yes, how?"
   ]
  },
  {
   "cell_type": "markdown",
   "id": "986e0861-881c-431c-9233-1c286610c1a4",
   "metadata": {},
   "source": [
    "Yes The slope is θ_1 and it is used to penalise the cost function. Whenever there is a shift in lambda, there is a shift in the slope which eventually leads to get multiple global minima. Also due to lambda, slope doesn’t fall below zero. "
   ]
  },
  {
   "cell_type": "code",
   "execution_count": null,
   "id": "9f142d8a-1ca4-4760-b9d1-bd6442ecd1d0",
   "metadata": {},
   "outputs": [],
   "source": []
  }
 ],
 "metadata": {
  "kernelspec": {
   "display_name": "Python 3 (ipykernel)",
   "language": "python",
   "name": "python3"
  },
  "language_info": {
   "codemirror_mode": {
    "name": "ipython",
    "version": 3
   },
   "file_extension": ".py",
   "mimetype": "text/x-python",
   "name": "python",
   "nbconvert_exporter": "python",
   "pygments_lexer": "ipython3",
   "version": "3.10.8"
  }
 },
 "nbformat": 4,
 "nbformat_minor": 5
}
