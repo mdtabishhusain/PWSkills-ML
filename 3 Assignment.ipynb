{
 "cells": [
  {
   "cell_type": "markdown",
   "id": "741d121b-122d-4865-acdf-89d3676ff6ba",
   "metadata": {},
   "source": [
    "Q1. What is an ensemble technique in machine learning?\n"
   ]
  },
  {
   "cell_type": "markdown",
   "id": "96ff745f-2306-45e5-a113-a7cd8bcc38bc",
   "metadata": {},
   "source": [
    "Ensemble methods are techniques that creates multiple models and then combine them to produce improved results. Ensemble methods in machine learning usually produce more accurate solutions than a single model would. "
   ]
  },
  {
   "cell_type": "markdown",
   "id": "316cd4d7-7acf-48b4-8ed1-f4fdcbed6892",
   "metadata": {},
   "source": [
    "Q2. Why are ensemble techniques used in machine learning?"
   ]
  },
  {
   "cell_type": "markdown",
   "id": "521b260e-7d52-4738-84fe-0e8c95eaab6d",
   "metadata": {},
   "source": [
    "Ensemble methods in machine learning usually produce more accurate solutions than a single model would. "
   ]
  },
  {
   "cell_type": "markdown",
   "id": "b673204b-f01d-40a2-a643-7334031f5433",
   "metadata": {},
   "source": [
    "Q3. What is bagging?\n"
   ]
  },
  {
   "cell_type": "markdown",
   "id": "740b3909-5b0a-428d-84b0-f4dab9bf788c",
   "metadata": {},
   "source": [
    "Bootstrap Aggregating (Bagging) is an ensemble technique use for improving the robustness of forecasts."
   ]
  },
  {
   "cell_type": "markdown",
   "id": "67ac819b-2881-459d-83b1-a03ba8a703d2",
   "metadata": {},
   "source": [
    "Q4. What is boosting?\n"
   ]
  },
  {
   "cell_type": "markdown",
   "id": "a82bcc4d-d018-4ac3-b016-c7c5f5275ae6",
   "metadata": {},
   "source": [
    "Boosting is an ensemble learning method that combines a set of weak learners into a strong learner to minimize training errors"
   ]
  },
  {
   "cell_type": "markdown",
   "id": "5f09f7c6-3a70-41a0-af11-5c9e87cb9c18",
   "metadata": {},
   "source": [
    "Q5. What are the benefits of using ensemble techniques?\n"
   ]
  },
  {
   "cell_type": "markdown",
   "id": "bf0cce7a-5f38-4ea3-ac5d-6f469a2fb711",
   "metadata": {},
   "source": [
    "Ensemble Techniques aims to improve the accuracy and performance of machine learning algorithms"
   ]
  },
  {
   "cell_type": "markdown",
   "id": "b91cdb69-2eaa-4d4d-a9cb-5f34dcb0e031",
   "metadata": {},
   "source": [
    "Q6. Are ensemble techniques always better than individual models?\n"
   ]
  },
  {
   "cell_type": "markdown",
   "id": "569870a9-644a-461a-be66-b0d1d18ccdaf",
   "metadata": {},
   "source": [
    "Yes"
   ]
  },
  {
   "cell_type": "markdown",
   "id": "532e88ae-a002-40f6-a2b8-2e7921119ec2",
   "metadata": {},
   "source": [
    "Q7. How is the confidence interval calculated using bootstrap?\n"
   ]
  },
  {
   "cell_type": "markdown",
   "id": "d669a230-23b5-4252-853c-262aa079802b",
   "metadata": {},
   "source": [
    "Confidence interval is calculated by aggregated either through voting for classification (the category with highest vote becomes prediction for new data) or through averaging for regression (the average value will be the prediction for new data)."
   ]
  },
  {
   "cell_type": "markdown",
   "id": "4bf8f8c9-2833-4fe4-870f-cf2f2a6922e0",
   "metadata": {},
   "source": [
    "Q8. How does bootstrap work and What are the steps involved in bootstrap?\n",
    "\n"
   ]
  },
  {
   "cell_type": "markdown",
   "id": "fc40d505-2e66-42aa-b1d0-82abfa1a2238",
   "metadata": {},
   "source": [
    "Bagging aims to improve the accuracy and performance of machine learning algorithms. It does this by taking random subsets of an original dataset, with replacement, and fits either a classifier (for classification) or regressor (for regression) to each subset. The predictions for each subset are then aggregated through majority vote for classification or averaging for regression, increasing prediction accuracy.\n",
    "Let us understand this with help of an example. We have a training dataset with 1000 records. To make predictions we have taken random subsets of data from the training dataset and then used different ML models to train these subsets of data. These ML models are based on type of data (i.e. classifier for classification data and regressor for regression data). Note that the subsets will obviously be smaller than the training dataset. These models are called base learners and they are trained parallelly. The output of each model then aggregated either through voting for classification (the category with highest vote becomes prediction for new data) or through averaging for regression (the average value will be the prediction for new data).\n"
   ]
  },
  {
   "cell_type": "markdown",
   "id": "a5d5ef34-b9d3-4cee-af9b-f69450181dfc",
   "metadata": {},
   "source": [
    "Q9. A researcher wants to estimate the mean height of a population of trees. They measure the height of a\n",
    "sample of 50 trees and obtain a mean height of 15 meters and a standard deviation of 2 meters. Use\n",
    "bootstrap to estimate the 95% confidence interval for the population mean height."
   ]
  },
  {
   "cell_type": "code",
   "execution_count": 1,
   "id": "072947fb-b895-42c4-89ec-6c55ef7f63fb",
   "metadata": {},
   "outputs": [
    {
     "name": "stdout",
     "output_type": "stream",
     "text": [
      "95% Confidence Interval: [14.44763064 15.55798476]\n"
     ]
    }
   ],
   "source": [
    "import numpy as np\n",
    "\n",
    "# Original sample data\n",
    "sample_mean = 15\n",
    "sample_std = 2\n",
    "sample_size = 50\n",
    "\n",
    "# Number of bootstrap samples\n",
    "num_samples = 10000\n",
    "\n",
    "# Create an array to store sample means from bootstrap samples\n",
    "bootstrap_means = np.zeros(num_samples)\n",
    "\n",
    "# Perform bootstrap resampling\n",
    "for i in range(num_samples):\n",
    "    # Generate a bootstrap sample with replacement\n",
    "    bootstrap_sample = np.random.normal(sample_mean, sample_std, sample_size)\n",
    "    bootstrap_means[i] = np.mean(bootstrap_sample)\n",
    "\n",
    "# Calculate the 95% confidence interval\n",
    "confidence_interval = np.percentile(bootstrap_means, [2.5, 97.5])\n",
    "\n",
    "# Print the confidence interval\n",
    "print(\"95% Confidence Interval:\", confidence_interval)\n"
   ]
  },
  {
   "cell_type": "code",
   "execution_count": null,
   "id": "7b21d413-e406-4cae-907d-c4e121e7b406",
   "metadata": {},
   "outputs": [],
   "source": []
  }
 ],
 "metadata": {
  "kernelspec": {
   "display_name": "Python 3 (ipykernel)",
   "language": "python",
   "name": "python3"
  },
  "language_info": {
   "codemirror_mode": {
    "name": "ipython",
    "version": 3
   },
   "file_extension": ".py",
   "mimetype": "text/x-python",
   "name": "python",
   "nbconvert_exporter": "python",
   "pygments_lexer": "ipython3",
   "version": "3.10.8"
  }
 },
 "nbformat": 4,
 "nbformat_minor": 5
}
