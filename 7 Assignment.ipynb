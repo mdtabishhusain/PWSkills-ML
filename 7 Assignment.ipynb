{
 "cells": [
  {
   "cell_type": "markdown",
   "id": "640feb4d-5140-4a8a-83dd-b13d33bb533a",
   "metadata": {},
   "source": [
    "Q1. What is boosting in machine learning?\n"
   ]
  },
  {
   "cell_type": "markdown",
   "id": "9f7734bc-d6a5-4f91-9e61-e46869f78dbb",
   "metadata": {},
   "source": [
    "Boosting is an ensemble learning method that combines a set of weak learners into a strong learner to minimize training errors."
   ]
  },
  {
   "cell_type": "markdown",
   "id": "e387b76a-5ae4-47c6-9daf-9858afae87a6",
   "metadata": {},
   "source": [
    "Q2. What are the advantages and limitations of using boosting techniques?\n"
   ]
  },
  {
   "cell_type": "markdown",
   "id": "354a8d6f-c198-425d-bfd1-6ff0a84a29d5",
   "metadata": {},
   "source": [
    "In boosting, a random sample of data is selected, fitted with a model and then trained sequentially—that is, each model tries to compensate for the weaknesses of its predecessor. With each iteration, the weak rules from each individual classifier are combined to form one, strong prediction rule. "
   ]
  },
  {
   "cell_type": "markdown",
   "id": "4588633a-d5da-4076-90bb-34c3ca06a658",
   "metadata": {},
   "source": [
    "Q3. Explain how boosting works.\n"
   ]
  },
  {
   "cell_type": "markdown",
   "id": "734b7fc0-1506-44c1-b6d9-bbcb11b5fce6",
   "metadata": {},
   "source": [
    "To understand it better let us consider an example, a dataset contains 1000 records. These records are used to train a model using decision tree. Let the model be DT1. This DT1 is considered as a weak learner.\n",
    "The data points of correct predictions made by DT1 will be stored in it but the data points of incorrect predictions will be passed on to another model say DT2. The similar procedure will be followed with model DT2 and data points of incorrect predictions will be forwarded to next model in the sequence say DT3.\n",
    "This process is repeated until DTn model (i.e. this is no incorrect prediction). These models are sequentially combined and the output formed is known as strong learner. \n",
    "Each weak learner has some confidence about the output given by it is correct. For example model DT1 might be 30% confident about its output to be correct. This confidence is known as weights. Each weak learner is assigned its own weight and the final equation of boosting is given by:\n",
    "f=α_1 (M_1 )+α_2 (M_2 )+α_3 (M_4 )+ ……+α_n (M_n)\n",
    "Where,\n",
    "\tM is the model\n",
    "\tα is the weight\n",
    "\tn is the total number.\n"
   ]
  },
  {
   "cell_type": "markdown",
   "id": "cea35194-6bd9-4168-9a06-0003fa8378fc",
   "metadata": {},
   "source": [
    "Q4. What are the different types of boosting algorithms?\n"
   ]
  },
  {
   "cell_type": "markdown",
   "id": "4fee7cec-070f-404b-a787-1e4a1386dc15",
   "metadata": {},
   "source": [
    "Different types of boosting algorithms are:\n",
    "AdaBoost\n",
    "Gradient Boosting\n",
    "XG Boost"
   ]
  },
  {
   "cell_type": "markdown",
   "id": "2f2e1d22-6289-4d99-a177-6561980f7d9a",
   "metadata": {},
   "source": [
    "Q5. What are some common parameters in boosting algorithms?\n"
   ]
  },
  {
   "cell_type": "markdown",
   "id": "de997d2e-9681-46d7-abb8-7aca66d8c05a",
   "metadata": {},
   "source": [
    "Some common parameters in boosting algorithms:\n",
    "\n",
    "Number of Estimators (n_estimators): This parameter determines the number of weak learners (base models) to be combined during the boosting process. A larger value generally improves model performance but may lead to overfitting if set too high.\n",
    "\n",
    "Learning Rate (or Shrinkage) (learning_rate): The learning rate controls the step size at each iteration when updating the model. Smaller values require more iterations but can lead to better convergence and generalization. It is often used in conjunction with the number of estimators.\n",
    "\n",
    "Base Estimator (base_estimator): This parameter specifies the type of weak learner to use, such as decision trees or linear models. You can choose a classifier for classification problems and a regressor for regression problems.\n",
    "\n",
    "Max Depth of Weak Learners (max_depth or max_leaf_nodes): These parameters control the maximum depth or maximum number of leaf nodes for the weak learners, usually decision trees. Constraining the complexity of the weak learners helps prevent overfitting.\n",
    "\n",
    "Subsample (or Fraction of Data Used) (subsample): This parameter determines the fraction of the training data to be used in each boosting iteration. Setting it to less than 1.0 introduces stochastic gradient boosting and can help prevent overfitting.\n",
    "\n",
    "Loss Function (loss): The choice of loss function depends on the type of problem (classification or regression) and the specific objective. Common loss functions include \"exponential\" (for AdaBoost) and \"deviance\" (for gradient boosting).\n",
    "\n",
    "Warm Start (warm_start): When set to True, this parameter allows the training process to be resumed from a previous fitting, which can be useful for incremental learning.\n",
    "\n",
    "Early Stopping (early_stopping_rounds): Used in some gradient boosting libraries like XGBoost and LightGBM, this parameter specifies the number of rounds after which to stop training if the performance on a validation set does not improve.\n",
    "\n",
    "Regularization Parameters (reg_alpha, reg_lambda, alpha, lambda): These parameters control L1 (Lasso) and L2 (Ridge) regularization to prevent overfitting and shrink model coefficients.\n",
    "\n",
    "Feature Importance: Boosting algorithms often provide a way to calculate feature importance scores, which can be used to identify the most influential features in the model.\n",
    "\n",
    "Objective Function: Some boosting libraries allow you to specify custom objective functions tailored to your specific problem.\n",
    "\n",
    "Categorical Features Handling: Parameters for handling categorical features, such as \"cat_features\" in CatBoost, are essential for boosting algorithms.\n",
    "\n",
    "Randomness Control: Parameters like \"random_state\" or \"seed\" allow you to control randomness in the algorithm, which can help make results reproducible."
   ]
  },
  {
   "cell_type": "markdown",
   "id": "1737dd63-a255-4988-91cd-32325e7602f8",
   "metadata": {},
   "source": [
    "Q6. How do boosting algorithms combine weak learners to create a strong learner?\n"
   ]
  },
  {
   "cell_type": "markdown",
   "id": "5a414227-2ce1-44dc-b2fb-512728f047ce",
   "metadata": {},
   "source": [
    "Boosting algorithms combine weak learners to create a strong learner through an iterative process. The key idea behind boosting is to train a sequence of weak learners (typically decision trees or linear models) in such a way that each subsequent learner focuses on the examples that the previous ones found difficult. This process corrects the errors made by the previous learners, gradually improving the overall performance. Here's an overview of how boosting algorithms work to combine weak learners into a strong learner:\n",
    "\n",
    "Initialization: The boosting process begins with the training of the first weak learner on the original dataset. This initial model is often a simple one, like a single decision stump or a linear model. It captures the most apparent patterns in the data but is expected to make errors.\n",
    "\n",
    "Weighted Samples: In the first iteration, all training examples are given equal weight. However, after each iteration, the algorithm assigns weights to the training examples. Initially, misclassified examples are assigned higher weights, while correctly classified examples receive lower weights. This change in example weights highlights the previously misclassified examples.\n",
    "\n",
    "Sequential Learning: Boosting algorithms train weak learners sequentially. In each iteration, the algorithm builds a new weak learner that focuses on the examples where the previous learners made mistakes. It does this by fitting a model to the training data with weighted examples, giving more importance to the misclassified ones.\n",
    "\n",
    "Combine Predictions: At the end of each iteration, the predictions of the newly trained weak learner are combined with the predictions of the previous learners to form a strong learner's prediction. The combination can be done in various ways, depending on the boosting algorithm. Common methods include weighted voting, where the models' votes are weighted by their performance, or adding the outputs in the case of regression.\n",
    "\n",
    "Updating Weights: After each iteration, the weights of training examples are updated. Misclassified examples receive higher weights, making them more likely to be correctly classified in the next iteration. This process \"boosts\" the importance of the previously challenging examples.\n",
    "\n",
    "Termination: The boosting process continues for a predefined number of iterations or until a stopping criterion is met. Some boosting algorithms incorporate early stopping, which halts training when the model's performance plateaus or deteriorates on a validation set.\n",
    "\n",
    "Final Model: The final strong learner is obtained by combining the predictions of all the weak learners. The contributions of individual learners are weighted based on their performance, with better-performing learners having more influence."
   ]
  },
  {
   "cell_type": "markdown",
   "id": "a8609324-de59-4b16-a899-58d77a06536a",
   "metadata": {},
   "source": [
    "Q7. Explain the concept of AdaBoost algorithm and its working.\n"
   ]
  },
  {
   "cell_type": "markdown",
   "id": "df50b27c-a167-46bb-9e2f-9e3fa037de52",
   "metadata": {},
   "source": [
    "Adaptive Boosting, also known as AdaBoost, is a successful method based on boosting. It is generally used for classification problems. As we have already studied how boosting works, we will understand Adaboost with help of an example. We have a dataset containing 3 features; Salary, Credit & Approval. We will train a model for predictions using Adaboost technique by following the following steps:\n",
    "\tFirst of we will create decision tree stump. A decision tree stump is a decision tree with only one depth. From those we will select best stump using entropy, gini impurity and information gain. Look at the decision tree stumps below, the stump with C==G will be selected as best stump. Here C means Credit.\n",
    "\tAfter that we will assign a same sample weight to all the records. Since total number of records is 7 so the sample weight assigned to each record will be 1/7 as shown in the table.\n",
    "\tNow we will calculate sum of total errors and performance of stumps. We have already got the best stump, i.e. C==G, so we will train our model using this decision tree stump. We can see when C is not equal to G we got 3 No and 1 Yes which means whenever in new data we get C is not equal to G we will get output as No. But if we look in the dataset there is a condition where C is not equal to G but it is equal to N and still we got Yes as output. When this data is given to the model, it will predict a No which is an error. So sum of total errors means out of all records how many are getting a wrong prediction. In this case only one wrong prediction is made so the sum of total errors will be 1/7. \n",
    "\tNow for performance of stump we use the formula: \n",
    "1/2  ln⁡[(1-TE)/TE]\n",
    "Where,\n",
    "\tln is log natural\n",
    "\tTE is total error\n",
    "So here performance of stump=1/2  ln⁡[(1-1⁄7)/(1⁄7)]≈0.896\n",
    "This performance of stump will be used as weight (i.e. α) in the equation of boosting and the output of model is obtained by providing a record of data to the model.\n",
    "\tNow we will transfer the data of wrong prediction to second model by updating the weights for correctly and incorrectly classified points. We will decrease weights for correctly classified points and we will increase weights for incorrectly classified points.\n",
    "The updated weights for correctly classified points are calculated by the formula; \n",
    "weight×e^(-performance of stump)\n",
    "So for this case updated weights of correctly classified points will be;\n",
    "1/7×e^(-0.896)=0.058\n",
    "The updated weights for incorrectly classified points are calculated by the formula; \n",
    "weight×e^(performance of stump)\n",
    "So for this case updated weights of incorrectly classified points will be;\n",
    "1/7×e^0.896=0.349\n",
    "Salary\tCredit\tApproval\tS. W\tU. W=0.697\tN. W\tBin Assigning\n",
    "≤50K\tB\tNo\t1⁄7 \t0.058\t0.083 \t0 – 0.083\n",
    "≤50K\tG\tYes\t1⁄7\t0.058\t0.083\t0.083 – 0.166\n",
    "≤50K\tG\tYes\t1⁄7\t0.058\t0.083\t0.166 – 0.249\n",
    ">50k\tB\tNo\t1⁄7\t0.058\t0.083\t0.249 – 0.332\n",
    ">50k\tG\tYes\t1⁄7\t0.058\t0.083\t0.332 – 0.415\n",
    ">50k\tN\tYes\t1⁄7\t0.349\t0.500\t0.415 – 0.915\n",
    "≤50K\tN\tNo\t1⁄7\t0.058\t0.083\t0.915 – 0.998\n",
    "\tNow we will normalize weights computation. To do so we will divide each updated weight with sum of all updated weight and get normalized weight for each updated weight. After that we will make bins (groups) of each normalized weight as shown in the table. These groups will lie between 0 and 1. The bin assigned for first record will lie between 0 and 0.083. For the second record we will use the max range of previous record as its starting range and add its normalized weight to the starting range to get its max range. So it will lie between 0.083 and 0.166. The same process is repeated for each record.\n",
    "\tNow an iteration process is used which will select random values between 0 and 1. Since the range of incorrectly classified point is higher, there are higher chances that the random values lie within its bin. Based on this, the data points are picked to be fed to next model for training purpose.\n",
    "These procedures are repeated for each model until we reach a model with zero sum of errors. After that the equation of boosting is used for prediction of output of new data. In the equation, the new data is passed through all the models and then the output of each model along with their weights is placed in the boosting equation. Then weights of each similar categories are added or subtracted according to their signs. Finally the category which has highest weight will be selected as output for the given new data\n"
   ]
  },
  {
   "cell_type": "markdown",
   "id": "a1bc1c2c-580d-4136-b850-b49dcf2fea73",
   "metadata": {},
   "source": [
    "Q8. What is the loss function used in AdaBoost algorithm?\n"
   ]
  },
  {
   "cell_type": "markdown",
   "id": "5333db36-611d-4804-976f-c60fe7a9e6fc",
   "metadata": {},
   "source": [
    "The AdaBoost (Adaptive Boosting) algorithm does not have a single fixed loss function that it minimizes during training. Instead, it relies on a weighted classification approach that adjusts the importance of misclassified examples at each iteration. The algorithm aims to minimize a weighted version of the overall classification error, but it does not explicitly specify a particular loss function like some other machine learning algorithms do."
   ]
  },
  {
   "cell_type": "markdown",
   "id": "b28aa8cc-bc68-4632-b5fa-a59e7d778f1d",
   "metadata": {},
   "source": [
    "Q9. How does the AdaBoost algorithm update the weights of misclassified samples?\n"
   ]
  },
  {
   "cell_type": "markdown",
   "id": "5d34cf05-4abf-415f-b5ed-9893fa53935a",
   "metadata": {},
   "source": [
    "The final strong learner is constructed by combining the weak learners with their corresponding α values. The weak learners with higher α values have more influence on the final prediction.\n",
    "\n",
    "By iteratively updating the example weights, AdaBoost focuses on the examples that are challenging to classify, effectively giving them higher importance and allowing the algorithm to build a strong learner that can handle complex patterns in the data."
   ]
  },
  {
   "cell_type": "markdown",
   "id": "c7afae48-b674-46de-8164-77bb972311e1",
   "metadata": {},
   "source": [
    "Q10. What is the effect of increasing the number of estimators in AdaBoost algorithm?"
   ]
  },
  {
   "cell_type": "markdown",
   "id": "2a84c0a7-907e-4cba-8a16-043b8fc22b48",
   "metadata": {},
   "source": [
    "Increasing the number of estimators in AdaBoost can lead to improved training performance and the potential for overfitting. It's essential to carefully monitor the model's behavior, assess its performance on a validation set, and potentially use techniques like early stopping to find the right balance between model complexity and generalization. The optimal number of estimators may vary for different datasets and applications."
   ]
  },
  {
   "cell_type": "code",
   "execution_count": null,
   "id": "e3606980-5bef-40b7-9a2a-afdc5138a70f",
   "metadata": {},
   "outputs": [],
   "source": []
  }
 ],
 "metadata": {
  "kernelspec": {
   "display_name": "Python 3 (ipykernel)",
   "language": "python",
   "name": "python3"
  },
  "language_info": {
   "codemirror_mode": {
    "name": "ipython",
    "version": 3
   },
   "file_extension": ".py",
   "mimetype": "text/x-python",
   "name": "python",
   "nbconvert_exporter": "python",
   "pygments_lexer": "ipython3",
   "version": "3.10.8"
  }
 },
 "nbformat": 4,
 "nbformat_minor": 5
}
